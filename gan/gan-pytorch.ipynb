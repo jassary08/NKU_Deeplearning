{
 "cells": [
  {
   "cell_type": "markdown",
   "id": "fc39b13f",
   "metadata": {},
   "source": [
    "### 1. GAN first introduction\n",
    "![GAN picture](./gan.png)\n",
    "\n",
    "\n",
    "\n",
    "GANs are a class of unsupervised generative models which implicitly model the data density.\n",
    "\n",
    "The basic setup is pictured above. There are two \"competing\" neural networks:\n",
    "* The Generator wants to learn to generate realistic images that are indistinguishable from the real data. \n",
    "    - *input*: Gaussian noise random sample. *output*: a (higher dimensional) datapoint\n",
    "* The Discriminator wants to tell the real & fake images apart.\n",
    "    - *input*: datapoint/image, *output*: probability assigned to datapoint being real. Think binary classifier.\n",
    "* The typical analogy: the generator is like a counterfeiter trying to look like real, the discriminator is the police trying to tell counterfeits from the real work.\n",
    "* The key novelty of GANs is to pass the error signal (gradients) from the discriminator to the generator: the generator neural network uses the information from the competing discriminator neural network to know how to produce more realistic output."
   ]
  },
  {
   "cell_type": "markdown",
   "id": "bd50add5",
   "metadata": {},
   "source": [
    "### 2. Define the neural networks in pytorch"
   ]
  },
  {
   "cell_type": "code",
   "execution_count": 1,
   "id": "7fdb7064",
   "metadata": {},
   "outputs": [
    {
     "name": "stdout",
     "output_type": "stream",
     "text": [
      "3.12.9 | packaged by Anaconda, Inc. | (main, Feb  6 2025, 18:49:16) [MSC v.1929 64 bit (AMD64)]\n",
      "2.7.0+cpu\n"
     ]
    }
   ],
   "source": [
    "import sys\n",
    "print(sys.version) # python 3.6\n",
    "import torch\n",
    "import torch.nn as nn\n",
    "import torchvision.datasets\n",
    "import torchvision.transforms as transforms\n",
    "import torch.nn.functional as F\n",
    "import torchvision.utils as vutils\n",
    "print(torch.__version__) # 1.0.1\n",
    "\n",
    "%matplotlib inline\n",
    "import matplotlib.pyplot as plt\n",
    "\n",
    "def show_imgs(x, new_fig=True):\n",
    "    grid = vutils.make_grid(x.detach().cpu(), nrow=8, normalize=True, pad_value=0.3)\n",
    "    grid = grid.transpose(0,2).transpose(0,1) # channels as last dimension\n",
    "    if new_fig:\n",
    "        plt.figure()\n",
    "    plt.imshow(grid.numpy())"
   ]
  },
  {
   "cell_type": "markdown",
   "id": "b117e4fb",
   "metadata": {},
   "source": [
    "Let's define a small 2-layer fully connected neural network (so one hidden layer) for the discriminator D:"
   ]
  },
  {
   "cell_type": "code",
   "execution_count": 2,
   "id": "8bdfffc1",
   "metadata": {},
   "outputs": [],
   "source": [
    "class Discriminator(torch.nn.Module):\n",
    "    def __init__(self, inp_dim=784):\n",
    "        super(Discriminator, self).__init__()\n",
    "        # 定义两层linear以及leaky relu激活函数\n",
    "        pass\n",
    "        \n",
    "    def forward(self, x):\n",
    "        x = x.view(x.size(0), 784) # flatten (bs x 1 x 28 x 28) -> (bs x 784)\n",
    "        # 实现判别器\n",
    "        pass"
   ]
  },
  {
   "cell_type": "markdown",
   "id": "9819320e",
   "metadata": {},
   "source": [
    "And a small 2-layer neural network for the generator G. G takes a 100-dimensional noise vector and generates an output of the size matching the data."
   ]
  },
  {
   "cell_type": "code",
   "execution_count": 3,
   "id": "1beb74a0",
   "metadata": {},
   "outputs": [],
   "source": [
    "class Generator(nn.Module):\n",
    "    def __init__(self, z_dim=100):\n",
    "        super(Generator, self).__init__()\n",
    "        # 定义两层linear以及leaky relu激活函数\n",
    "\n",
    "    def forward(self, x):\n",
    "        # 实现生成器\n",
    "        \n",
    "        out = torch.tanh(out) # range [-1, 1]\n",
    "        # convert to image \n",
    "        out = out.view(out.size(0), 1, 28, 28)\n",
    "        return out"
   ]
  },
  {
   "cell_type": "code",
   "execution_count": null,
   "id": "6c361db1-1526-4411-af35-40a058667c89",
   "metadata": {},
   "outputs": [],
   "source": [
    "# instantiate a Generator and Discriminator according to their class definition.\n",
    "D = Discriminator()\n",
    "print(D)\n",
    "G = Generator()\n",
    "print(G)"
   ]
  },
  {
   "cell_type": "markdown",
   "id": "e4955263",
   "metadata": {},
   "source": [
    "Loading the data and computing forward pass"
   ]
  },
  {
   "cell_type": "code",
   "execution_count": 6,
   "id": "55bb2fa8",
   "metadata": {},
   "outputs": [],
   "source": [
    "# let's download the Fashion MNIST data, if you do this locally and you downloaded before,\n",
    "# you can change data paths to point to your existing files\n",
    "# dataset = torchvision.datasets.MNIST(root='./MNISTdata', ...)\n",
    "dataset = torchvision.datasets.FashionMNIST(root='./FashionMNIST/',\n",
    "                       transform=transforms.Compose([transforms.ToTensor(),\n",
    "                                                     transforms.Normalize((0.5,), (0.5,))]),\n",
    "                       download=True)\n",
    "dataloader = torch.utils.data.DataLoader(dataset, batch_size=64, shuffle=True)"
   ]
  },
  {
   "cell_type": "markdown",
   "id": "8375a24f",
   "metadata": {},
   "source": [
    "Let's look at a sample:"
   ]
  },
  {
   "cell_type": "code",
   "execution_count": 7,
   "id": "9f9605f1",
   "metadata": {},
   "outputs": [
    {
     "data": {
      "text/plain": [
       "<matplotlib.colorbar.Colorbar at 0x25770a28b90>"
      ]
     },
     "execution_count": 7,
     "metadata": {},
     "output_type": "execute_result"
    }
   ],
   "source": [
    "ix=149\n",
    "x, _ = dataset[ix]\n",
    "plt.matshow(x.squeeze().numpy(), cmap=plt.cm.gray)\n",
    "plt.colorbar()"
   ]
  },
  {
   "cell_type": "code",
   "execution_count": 12,
   "id": "9365ee74",
   "metadata": {},
   "outputs": [
    {
     "data": {
      "text/plain": [
       "tensor([[0.4499]], grad_fn=<SigmoidBackward0>)"
      ]
     },
     "execution_count": 12,
     "metadata": {},
     "output_type": "execute_result"
    }
   ],
   "source": [
    "# for one image:\n",
    "Dscore = D(x)\n",
    "Dscore"
   ]
  },
  {
   "cell_type": "code",
   "execution_count": 31,
   "id": "cb9a76e9",
   "metadata": {},
   "outputs": [
    {
     "data": {
      "text/plain": [
       "torch.Size([64, 1])"
      ]
     },
     "execution_count": 31,
     "metadata": {},
     "output_type": "execute_result"
    }
   ],
   "source": [
    "# How you can get a batch of images from the dataloader:\n",
    "# xbatch, _ = iter(dataloader).next() # 64 x 1 x 28 x 28: minibatch of 64 samples\n",
    "xbatch, _ = next(iter(dataloader)) # 64 x 1 x 28 x 28: minibatch of 64 samples\n",
    "xbatch.shape\n",
    "D(xbatch) # 64x1 tensor: 64 predictions of probability of input being real.\n",
    "D(xbatch).shape"
   ]
  },
  {
   "cell_type": "code",
   "execution_count": 32,
   "id": "203abcda",
   "metadata": {},
   "outputs": [],
   "source": [
    "show_imgs(xbatch)"
   ]
  },
  {
   "cell_type": "markdown",
   "id": "0eea07a6",
   "metadata": {},
   "source": [
    "### 3 Intermezzo: optimization with SGD - linear regression example\n",
    "We will step away from GANs for a second to introduce the core of deep learning: optimization with SGD.\n",
    "\n",
    "Here are the core components of a basic deep learning classifier/regression setup:\n",
    "* a neural network $\\hat{y}=f(x, \\theta)$, which takes an input $x$ and parameters $\\theta$, and outputs $\\hat{y}$, a prediction of label $y$.\n",
    "* a loss function $\\mathcal{L}(\\theta) = \\mathbb{E}_{x,y \\sim p_d} \\ell(f(x, \\theta), y) \\approx \\sum_{x_i,y_i \\sim mb} \\ell(f(x_i, \\theta), y_i)$.\n",
    "* optimizing $\\theta$ to reduce the loss, by making small updates to $\\theta$ in the direction of $-\\nabla_\\theta \\mathcal{L}(\\theta)$.\n",
    "\n",
    "pytorch is designed around these core components:\n",
    "* The way to define a neural network is with `torch.nn.Module`, see how we defined the Discriminator and Generator above.\n",
    "    - a `Module` defines (1) its weights and (2) defines the operations done with them.\n",
    "    - initializing a module initializes the weights at random\n",
    "* $\\theta$ stands for all our neural network weights (everything you get from `.parameters()`)\n",
    "* In the optimization loop you will evaluate a \"minibatch\" of samples (in our case 64) to compute the neural network output, and the loss measuring how far away those predictions are from the truth.\n",
    "* To compute the gradient $\\nabla_\\theta \\mathcal{L}(\\theta)$, you call `.backward()` on the loss. This is where the magic happens: the gradient wrt all weights in the neural network is computed. They appear in a new Tensor `p.grad` for each `p in net.parameters()`\n",
    "    - under the hood, this happens by keeping track of the computational graph, and reversing the computation order to \"backpropagate\" the loss with the chain rule.\n",
    "    - [Figure which shows a bit more detail](https://tom.sercu.me/assets/201812CCNY/NN_fig.pdf)"
   ]
  },
  {
   "cell_type": "markdown",
   "id": "fcb659d6",
   "metadata": {},
   "source": [
    "### 3a: basic autograd example\n",
    "\n",
    "So we said the big deal about pytorch (or other deep learning package) is **autograd = automatic differentiation** which allows to compute derivatives automatically.\n",
    "\n",
    "Every `torch.Tensor`, let's say `x`, has an important flag `requires_grad`. If this flag is set to True, pytorch will keep track of the graph of operations that happen with this tensor.\n",
    "When we finally arrive at some output (a scalar variable based on a sequence of operations on `x`), we can call `.backward()` on this output, to compute the gradient `d(output) / dx`. This gradient will end up in `x.grad`."
   ]
  },
  {
   "cell_type": "code",
   "execution_count": 33,
   "id": "feb68d62",
   "metadata": {},
   "outputs": [
    {
     "data": {
      "text/plain": [
       "tensor([[ 0.9554,  1.1411],\n",
       "        [ 0.0620, -1.6110]], requires_grad=True)"
      ]
     },
     "execution_count": 33,
     "metadata": {},
     "output_type": "execute_result"
    }
   ],
   "source": [
    "x = torch.randn(2,2, requires_grad=True)\n",
    "x"
   ]
  },
  {
   "cell_type": "code",
   "execution_count": 34,
   "id": "0dbb0398",
   "metadata": {},
   "outputs": [
    {
     "name": "stdout",
     "output_type": "stream",
     "text": [
      "None\n"
     ]
    }
   ],
   "source": [
    "# no gradient yet at this point:\n",
    "print(x.grad)"
   ]
  },
  {
   "cell_type": "code",
   "execution_count": 35,
   "id": "fb565048",
   "metadata": {},
   "outputs": [
    {
     "data": {
      "text/plain": [
       "tensor(5.3616, grad_fn=<SumBackward0>)"
      ]
     },
     "execution_count": 35,
     "metadata": {},
     "output_type": "execute_result"
    }
   ],
   "source": [
    "y=(x**2 + x)\n",
    "z = y.sum()\n",
    "z"
   ]
  },
  {
   "cell_type": "markdown",
   "id": "97a8c54a",
   "metadata": {},
   "source": [
    "We know from high school math that the derivative `dz / dx[i,j]` = 2*x[i,j] +1"
   ]
  },
  {
   "cell_type": "code",
   "execution_count": 36,
   "id": "b8d76a79",
   "metadata": {},
   "outputs": [
    {
     "data": {
      "text/plain": [
       "tensor([[ 2.9108,  3.2822],\n",
       "        [ 1.1240, -2.2221]])"
      ]
     },
     "execution_count": 36,
     "metadata": {},
     "output_type": "execute_result"
    }
   ],
   "source": [
    "z.backward()\n",
    "x.grad"
   ]
  },
  {
   "cell_type": "code",
   "execution_count": 37,
   "id": "1f5faa8e",
   "metadata": {},
   "outputs": [
    {
     "data": {
      "text/plain": [
       "tensor([[ 2.9108,  3.2822],\n",
       "        [ 1.1240, -2.2221]], grad_fn=<AddBackward0>)"
      ]
     },
     "execution_count": 37,
     "metadata": {},
     "output_type": "execute_result"
    }
   ],
   "source": [
    "2*x+1"
   ]
  },
  {
   "cell_type": "markdown",
   "id": "595783f5",
   "metadata": {},
   "source": [
    "You can play with this: you can introduce any tensor operation here; for example `torch.exp(torch.sin(x**2))`. Confirm that the gradient matches the analytical derivative."
   ]
  },
  {
   "cell_type": "markdown",
   "id": "caa923fe",
   "metadata": {},
   "source": [
    "More about autograd in the tutorial https://pytorch.org/tutorials/beginner/blitz/autograd_tutorial.html#sphx-glr-beginner-blitz-autograd-tutorial-py and the docs https://pytorch.org/docs/stable/autograd.html\n",
    "\n",
    "\n",
    "This was a very basic example of what pytorch autograd does for us: computing the derivatives of a scalar function $z(x)$ wrt $x$: $\\nabla_x z(x)$.\n",
    "In a deep learning context this will be at the basis of our optimization; now we will have\n",
    "* $\\mathcal{L}(\\theta)$  the loss is a (scalar) function of neural network parameters (vector) $\\theta$.\n",
    "* autograd will allow us to call `.backward()` on the loss, which will compute the gradient of the loss with respect to neural network parameters $\\nabla_\\theta \\mathcal{L}(\\theta)$.\n",
    "* For each of the parameters `p` the gradient will be in `p.grad`\n",
    "* Can you confirm that for the parameters of G/D, the flag `.requires_grad` is `True`?"
   ]
  },
  {
   "cell_type": "code",
   "execution_count": 38,
   "id": "6581a866",
   "metadata": {},
   "outputs": [
    {
     "name": "stdout",
     "output_type": "stream",
     "text": [
      "None\n",
      "None\n",
      "None\n",
      "None\n"
     ]
    }
   ],
   "source": [
    "for p in G.parameters():\n",
    "    print(p.grad)"
   ]
  },
  {
   "cell_type": "markdown",
   "id": "572c7e00",
   "metadata": {},
   "source": [
    "### 3b: Linear regression\n",
    "Let's try this for a simple linear mapping `y = f(x, theta) = <x, theta>` with $x, \\theta \\in \\mathbb{R}^{2}$. We we want to optimize $\\theta$:"
   ]
  },
  {
   "cell_type": "code",
   "execution_count": 39,
   "id": "c14dbd4d",
   "metadata": {},
   "outputs": [
    {
     "name": "stdout",
     "output_type": "stream",
     "text": [
      "x:\n",
      " tensor([[ 1.0000, -1.0593],\n",
      "        [ 2.0000,  1.2427],\n",
      "        [ 3.0000, -0.5301],\n",
      "        [-3.0000, -0.8405],\n",
      "        [-2.0000, -1.6378]])\n",
      "y:\n",
      " tensor([[ 3.],\n",
      "        [ 6.],\n",
      "        [ 9.],\n",
      "        [-9.],\n",
      "        [-6.]])\n",
      "theta at random initialization:  Parameter containing:\n",
      "tensor([[ 0.4849, -0.3917]], requires_grad=True)\n"
     ]
    }
   ],
   "source": [
    "torch.manual_seed(23231)\n",
    "x1 = torch.Tensor([1, 2, 3, -3, -2])\n",
    "y = torch.Tensor ([3, 6, 9, -9, -6]).view(5,1)\n",
    "x2 = torch.randn(5)\n",
    "x = torch.stack([x1, x2], dim=1) # 5 x 2 input. 5 datapoints, 2 dimensions.\n",
    "# theta = torch.randn(1,2, requires_grad=True) # ~equal to:\n",
    "theta = torch.nn.Parameter(torch.randn(1,2))\n",
    "# we start theta at random initialization, the gradient will point us in the right direction.\n",
    "print('x:\\n', x)\n",
    "print('y:\\n', y)\n",
    "print('theta at random initialization: ', theta)\n",
    "thetatrace = [theta.data.clone()] # initial value, for logging"
   ]
  },
  {
   "cell_type": "markdown",
   "id": "9d1a232f",
   "metadata": {},
   "source": [
    "Take a look at x and y. What is their correct (linear) relationship?\n",
    "\n",
    "A: `y = 3 x1 + 0 x2`"
   ]
  },
  {
   "cell_type": "markdown",
   "id": "647f5fde",
   "metadata": {},
   "source": [
    "Now we define a prediction as a linear mapping $\\hat{y} = (X . \\theta)$\n",
    "\n",
    "We will compute the ordinary least squares objective (mean squared error):  $\\mathcal{L}(\\theta) = (\\hat{y}(x,\\theta) - y)^2$\n",
    "\n",
    "Compute $\\nabla_\\theta \\mathcal{L}(\\theta)$, and\n",
    "\n",
    "Move $\\theta$ a small step opposite to that direction"
   ]
  },
  {
   "cell_type": "code",
   "execution_count": 40,
   "id": "59aa9f6b",
   "metadata": {},
   "outputs": [
    {
     "name": "stdout",
     "output_type": "stream",
     "text": [
      "ypred:\n",
      " tensor([[ 0.8998],\n",
      "        [ 0.4830],\n",
      "        [ 1.6623],\n",
      "        [-1.1254],\n",
      "        [-0.3282]], grad_fn=<MmBackward0>)\n",
      "mse loss:  36.57358169555664\n",
      "dL / d theta:\n",
      " tensor([[-28.0458,  -6.6600]])\n",
      "theta:\n",
      " Parameter containing:\n",
      "tensor([[3.2895, 0.2743]], requires_grad=True)\n"
     ]
    }
   ],
   "source": [
    "ypred = x @ theta.t() # matrix multiply; (N x 2) * (2 x 1) -> N x 1\n",
    "print('ypred:\\n', ypred)\n",
    "loss = ((ypred-y)**2).mean() # mean squared error = MSE\n",
    "print('mse loss: ', loss.item())\n",
    "loss.backward()\n",
    "print('dL / d theta:\\n', theta.grad)\n",
    "# let's move W in that direction\n",
    "theta.data.add_(-0.1 * theta.grad.data)\n",
    "# Now we will reset the gradient to zero.\n",
    "theta.grad.zero_()\n",
    "print('theta:\\n', theta)\n",
    "thetatrace.append(theta.data.clone()) # for logging"
   ]
  },
  {
   "cell_type": "markdown",
   "id": "3df6a992",
   "metadata": {},
   "source": [
    "You can re-execute this cell above a couple of times and see how $\\theta$ goes close towards the optimal value of `[3,0]`."
   ]
  },
  {
   "cell_type": "code",
   "execution_count": 41,
   "id": "7255b715",
   "metadata": {},
   "outputs": [
    {
     "data": {
      "text/plain": [
       "Text(0, 0.5, 'theta[1]')"
      ]
     },
     "execution_count": 41,
     "metadata": {},
     "output_type": "execute_result"
    }
   ],
   "source": [
    "# Now let us plot in 2D what happened to theta during SGD optimization. In red is the true relation.\n",
    "thetas = torch.cat(thetatrace, dim=0).numpy()\n",
    "plt.figure()\n",
    "plt.plot(thetas[:,0], thetas[:, 1], 'x-')\n",
    "plt.plot(3, 0, 'ro')\n",
    "plt.xlabel('theta[0]')\n",
    "plt.ylabel('theta[1]')"
   ]
  },
  {
   "cell_type": "markdown",
   "id": "f9f4158f",
   "metadata": {},
   "source": [
    "Ok, doing this manually gives you insight what happens down to the details. But usually we do not do the gradient updates manually, it would become very cumbersome if the net becomes more complex than the simple linear layer. pytorch gives us abstractions to easily manage this complexity: \n",
    "* `nn.Linear()` (or generally  `Module`s) which do two things: (a) they contain the learnable weight, and (b) define how they operate on an input tensor to give an output.\n",
    "* `module.zero_grad()` to clear the gradients, \n",
    "* `optim.SGD` with which you can do `optimizer.step()` to do a step of SGD."
   ]
  },
  {
   "cell_type": "code",
   "execution_count": 42,
   "id": "6813a5b5",
   "metadata": {},
   "outputs": [
    {
     "name": "stdout",
     "output_type": "stream",
     "text": [
      "Parameter containing:\n",
      "tensor([[3.0000e+00, 1.0500e-07]], requires_grad=True)\n"
     ]
    }
   ],
   "source": [
    "torch.manual_seed(23801)\n",
    "net = nn.Linear(2,1, bias=False)\n",
    "optimizer = torch.optim.SGD(net.parameters(), lr=0.1) # do updates with `optimizer.step()`\n",
    "# x, y defined above. In a real problem we would typically get different x, y \"minibatches\"\n",
    "# of samples from a dataloader.\n",
    "for i in range(100): # 10 optimization steps (gradient descent steps)\n",
    "    ypred = net(x)\n",
    "    loss = ((ypred-y)**2).mean() # mean squared error = MSE\n",
    "    optimizer.zero_grad()\n",
    "    loss.backward()\n",
    "    # and instead of W.data -= 0.1 * W.grad we do:\n",
    "    optimizer.step()\n",
    "print(net.weight)"
   ]
  },
  {
   "cell_type": "markdown",
   "id": "63249e67",
   "metadata": {},
   "source": [
    "### 4. Back to GANs: The min-max game.\n",
    "We introduced and defined the generator G, the discriminator D, and the dataloader which will give us minibatches of real data. With the intermezzo on optimization we also understand how we optimize neural networks in pytorch.\n",
    "\n",
    "To recap the basic idea of the min-max / adversarial game:\n",
    "* The Generator and Discriminator have competing objectives, they are \"adversaries\".\n",
    "* The Discriminator wants to assign high probability to real images and low probability to generated (fake) images\n",
    "* The Generator wants its generated images to look real, so wants to modify its outputs to get high scores from the Discriminator\n",
    "* We will optimize both alternatingly, with SGD steps (as before): optimize $\\theta_D$ the weights of $D(x, \\theta_D)$, and  $\\theta_G$ the weights of $G(z, \\theta_G)$.\n",
    "* Final goal of the whole min-max game is for the Generator to match the data distribution: $p_G(x) \\approx p_{data}(x)$.\n",
    "\n",
    "\n",
    "Now what are the objective functions for each of them? As mentioned in the introduction, the objective for the discriminator is to classify the real images as real, so $D(x) = 1$, and the fake images as fake, so $D(G(z))=0$.\n",
    "This is a typical binary classification problem which calls for the binary cross-entropy (BCE) loss, which encourages exactly this solution.\n",
    "\n",
    "For G we just try to minimize the same loss that D maximizes. See how G appears inside D? This shows how the output of the generator G is passed into the Discriminator to compute the loss.\n",
    "\n",
    "\n",
    "This is the optimization problem:\n",
    "\n",
    "$$\n",
    "\\min _{G} \\max _{D} V(D, G)=\\mathbb{E}_{\\boldsymbol{x} \\sim p_{\\text { data }}(\\boldsymbol{x})}[\\log D(\\boldsymbol{x})]+\\mathbb{E}_{\\boldsymbol{z} \\sim p_{\\boldsymbol{z}}(\\boldsymbol{z})}[\\log (1-D(G(\\boldsymbol{z})))]\n",
    "$$\n",
    "\n",
    "We will do a single SGD step alternatingly to maximize D, then minimize G.\n",
    "In fact for G we use a modified (non-saturing) loss $-\\log D(G(z))$. Different modifications of the loss and the relation to the distance between distributions $p_{data}$ and $p_{G}$ became a topic of research over the last years.\n"
   ]
  },
  {
   "cell_type": "code",
   "execution_count": 43,
   "id": "2376bec7",
   "metadata": {},
   "outputs": [
    {
     "name": "stdout",
     "output_type": "stream",
     "text": [
      "Discriminator(\n",
      "  (fc1): Linear(in_features=784, out_features=128, bias=True)\n",
      "  (nonlin1): LeakyReLU(negative_slope=0.2)\n",
      "  (fc2): Linear(in_features=128, out_features=1, bias=True)\n",
      ")\n",
      "Generator(\n",
      "  (fc1): Linear(in_features=100, out_features=128, bias=True)\n",
      "  (nonlin1): LeakyReLU(negative_slope=0.2)\n",
      "  (fc2): Linear(in_features=128, out_features=784, bias=True)\n",
      ")\n"
     ]
    }
   ],
   "source": [
    "# Remember we have defined the discriminator and generator as:\n",
    "D = Discriminator()\n",
    "print(D)\n",
    "G = Generator()\n",
    "print(G)\n",
    "# Now let's set up the optimizers\n",
    "optimizerD = torch.optim.SGD(D.parameters(), lr=0.01)\n",
    "optimizerG = torch.optim.SGD(G.parameters(), lr=0.01)"
   ]
  },
  {
   "cell_type": "code",
   "execution_count": 44,
   "id": "a5d69c96",
   "metadata": {},
   "outputs": [],
   "source": [
    "# and the BCE criterion which computes the loss above:\n",
    "criterion = nn.BCELoss()"
   ]
  },
  {
   "cell_type": "code",
   "execution_count": 46,
   "id": "4b0a79df",
   "metadata": {},
   "outputs": [],
   "source": [
    "# STEP 1: Discriminator optimization step\n",
    "x_real, _ = next(iter(dataloader))\n",
    "lab_real = torch.ones(64, 1)\n",
    "lab_fake = torch.zeros(64, 1)\n",
    "# reset accumulated gradients from previous iteration\n",
    "optimizerD.zero_grad()\n",
    "\n",
    "D_x = D(x_real)\n",
    "lossD_real = criterion(D_x, lab_real)\n",
    "\n",
    "z = torch.randn(64, 100) # random noise, 64 samples, z_dim=100\n",
    "x_gen = G(z).detach()\n",
    "D_G_z = D(x_gen)\n",
    "lossD_fake = criterion(D_G_z, lab_fake)\n",
    "\n",
    "lossD = lossD_real + lossD_fake\n",
    "lossD.backward()\n",
    "optimizerD.step()\n",
    "\n",
    "# print(D_x.mean().item(), D_G_z.mean().item())"
   ]
  },
  {
   "cell_type": "markdown",
   "id": "eacf72c3",
   "metadata": {},
   "source": [
    "Some things to think about / try out / investigate:\n",
    "* what are the mean probabilities for real and fake? print them and see how they change when executing the cell above a couple of times. Does this correspond to your expectation?\n",
    "* can you confirm how the use of the criterion maps to the objective stated above?\n",
    "* when calling backward, the derivative of the loss wrt **what** gets computed?\n",
    "* what does `.detach()` do? Are the Generator parameters' gradients computed?"
   ]
  },
  {
   "cell_type": "code",
   "execution_count": 47,
   "id": "a197488a",
   "metadata": {},
   "outputs": [
    {
     "name": "stdout",
     "output_type": "stream",
     "text": [
      "0.4941708445549011\n"
     ]
    }
   ],
   "source": [
    "# STEP 2: Generator optimization step\n",
    "# note how only one of the terms involves the Generator so this is the only one that matters for G.\n",
    "# reset accumulated gradients from previous iteration\n",
    "optimizerG.zero_grad()\n",
    "\n",
    "z = torch.randn(64, 100) # random noise, 64 samples, z_dim=100\n",
    "D_G_z = D(G(z))\n",
    "lossG = criterion(D_G_z, lab_real) # -log D(G(z))\n",
    "\n",
    "lossG.backward()\n",
    "optimizerG.step()\n",
    "\n",
    "print(D_G_z.mean().item())"
   ]
  },
  {
   "cell_type": "markdown",
   "id": "3277f930",
   "metadata": {},
   "source": [
    "Again run this cell a couple of times. See how the generator increases its Discriminator score?\n",
    "\n",
    "Some more things to ponder:\n",
    "* Do the Generator parameters now receive gradients? Why (compared to previous loop)?\n",
    "* From the definition of BCE loss confirm that this comes down to $-\\log D(G(z))$"
   ]
  },
  {
   "cell_type": "markdown",
   "id": "8ddbc334",
   "metadata": {},
   "source": [
    "### Putting it all together: the full training loop\n",
    "\n",
    "Modifications to the code:\n",
    "* add device parameter to take GPU if available\n",
    "* use [Adam optimizer](https://pytorch.org/docs/stable/optim.html#torch.optim.Adam) (an adaptive learning-rate variation of SGD with momentum)\n",
    "* some very minimal logging"
   ]
  },
  {
   "cell_type": "code",
   "execution_count": null,
   "id": "74366721",
   "metadata": {},
   "outputs": [
    {
     "name": "stdout",
     "output_type": "stream",
     "text": [
      "Device:  cpu\n",
      "e0.i0/938 last mb D(x)=0.5272 D(G(z))=0.5102\n",
      "e0.i100/938 last mb D(x)=0.9446 D(G(z))=0.3563\n",
      "e0.i200/938 last mb D(x)=0.8059 D(G(z))=0.3399\n",
      "e0.i300/938 last mb D(x)=0.8223 D(G(z))=0.2439\n",
      "e0.i400/938 last mb D(x)=0.9784 D(G(z))=0.0316\n",
      "e0.i500/938 last mb D(x)=0.9314 D(G(z))=0.0789\n",
      "e0.i600/938 last mb D(x)=0.8612 D(G(z))=0.1673\n",
      "e0.i700/938 last mb D(x)=0.8753 D(G(z))=0.1432\n",
      "e0.i800/938 last mb D(x)=0.5024 D(G(z))=0.3916\n",
      "e0.i900/938 last mb D(x)=0.6753 D(G(z))=0.2863\n",
      "e1.i0/938 last mb D(x)=0.5424 D(G(z))=0.3940\n",
      "e1.i100/938 last mb D(x)=0.7866 D(G(z))=0.2881\n",
      "e1.i200/938 last mb D(x)=0.5505 D(G(z))=0.3441\n",
      "e1.i300/938 last mb D(x)=0.9088 D(G(z))=0.0602\n",
      "e1.i400/938 last mb D(x)=0.9236 D(G(z))=0.0382\n",
      "e1.i500/938 last mb D(x)=0.9168 D(G(z))=0.1050\n",
      "e1.i600/938 last mb D(x)=0.8509 D(G(z))=0.1886\n",
      "e1.i700/938 last mb D(x)=0.4840 D(G(z))=0.5498\n"
     ]
    }
   ],
   "source": [
    "device = torch.device('cuda') if torch.cuda.is_available() else torch.device('cpu')\n",
    "print('Device: ', device)\n",
    "# Re-initialize D, G:\n",
    "D = Discriminator().to(device)\n",
    "G = Generator().to(device)\n",
    "# Now let's set up the optimizers (Adam, better than SGD for this)\n",
    "optimizerD = torch.optim.SGD(D.parameters(), lr=0.03)\n",
    "optimizerG = torch.optim.SGD(G.parameters(), lr=0.03)\n",
    "# optimizerD = torch.optim.Adam(D.parameters(), lr=0.0002)\n",
    "# optimizerG = torch.optim.Adam(G.parameters(), lr=0.0002)\n",
    "lab_real = torch.ones(64, 1, device=device)\n",
    "lab_fake = torch.zeros(64, 1, device=device)\n",
    "\n",
    "\n",
    "# for logging:\n",
    "collect_x_gen = []\n",
    "fixed_noise = torch.randn(64, 100, device=device)\n",
    "fig = plt.figure() # keep updating this one\n",
    "plt.ion()\n",
    "\n",
    "for epoch in range(3): # 3 epochs\n",
    "    for i, data in enumerate(dataloader, 0):\n",
    "        # STEP 1: Discriminator optimization step\n",
    "        x_real, _ = next(iter(dataloader))\n",
    "        x_real = x_real.to(device)\n",
    "        # reset accumulated gradients from previous iteration\n",
    "        optimizerD.zero_grad()\n",
    "\n",
    "        D_x = D(x_real)\n",
    "        lossD_real = criterion(D_x, lab_real)\n",
    "\n",
    "        z = torch.randn(64, 100, device=device) # random noise, 64 samples, z_dim=100\n",
    "        x_gen = G(z).detach()\n",
    "        D_G_z = D(x_gen)\n",
    "        lossD_fake = criterion(D_G_z, lab_fake)\n",
    "\n",
    "        lossD = lossD_real + lossD_fake\n",
    "        lossD.backward()\n",
    "        optimizerD.step()\n",
    "        \n",
    "        # STEP 2: Generator optimization step\n",
    "        # reset accumulated gradients from previous iteration\n",
    "        optimizerG.zero_grad()\n",
    "\n",
    "        z = torch.randn(64, 100, device=device) # random noise, 64 samples, z_dim=100\n",
    "        x_gen = G(z)\n",
    "        D_G_z = D(x_gen)\n",
    "        lossG = criterion(D_G_z, lab_real) # -log D(G(z))\n",
    "\n",
    "        lossG.backward()\n",
    "        optimizerG.step()\n",
    "        if i % 100 == 0:\n",
    "            x_gen = G(fixed_noise)\n",
    "            show_imgs(x_gen, new_fig=False)\n",
    "            fig.canvas.draw()\n",
    "            print('e{}.i{}/{} last mb D(x)={:.4f} D(G(z))={:.4f}'.format(\n",
    "                epoch, i, len(dataloader), D_x.mean().item(), D_G_z.mean().item()))\n",
    "    # End of epoch\n",
    "    x_gen = G(fixed_noise)\n",
    "    collect_x_gen.append(x_gen.detach().clone())"
   ]
  },
  {
   "cell_type": "code",
   "execution_count": 30,
   "id": "a3525b93",
   "metadata": {},
   "outputs": [],
   "source": [
    "for x_gen in collect_x_gen:\n",
    "    show_imgs(x_gen)"
   ]
  },
  {
   "cell_type": "code",
   "execution_count": null,
   "id": "d6c33f48",
   "metadata": {},
   "outputs": [],
   "source": []
  },
  {
   "cell_type": "code",
   "execution_count": null,
   "id": "63a0b3a6-affa-4443-b296-45d685a90e43",
   "metadata": {},
   "outputs": [],
   "source": []
  }
 ],
 "metadata": {
  "kernelspec": {
   "display_name": "py312",
   "language": "python",
   "name": "py312"
  },
  "language_info": {
   "codemirror_mode": {
    "name": "ipython",
    "version": 3
   },
   "file_extension": ".py",
   "mimetype": "text/x-python",
   "name": "python",
   "nbconvert_exporter": "python",
   "pygments_lexer": "ipython3",
   "version": "3.12.9"
  }
 },
 "nbformat": 4,
 "nbformat_minor": 5
}
